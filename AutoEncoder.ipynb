{
 "cells": [
  {
   "cell_type": "code",
   "execution_count": 141,
   "metadata": {},
   "outputs": [],
   "source": [
    "import pandas as pd\n",
    "import matplotlib.pyplot as plt\n",
    "import numpy as np\n",
    "from sklearn.model_selection import train_test_split\n",
    "from tensorflow.python.keras.optimizers import Adam\n",
    "from tensorflow.python.keras.layers import Input, Dense, Dropout, Activation\n",
    "from tensorflow.python.keras.models import Model\n",
    "from tensorflow.python.keras.regularizers import l2\n",
    "from tensorflow.python.keras import backend as K\n",
    "from tensorflow.python.keras import regularizers\n",
    "from tensorflow.python.keras.layers import concatenate\n",
    "%matplotlib inline  \n",
    "import warnings\n",
    "warnings.filterwarnings('ignore')\n",
    "import tensorflow as tf\n",
    "from tensorflow.python.keras.models import model_from_json"
   ]
  },
  {
   "cell_type": "code",
   "execution_count": 253,
   "metadata": {},
   "outputs": [],
   "source": [
    "rating = pd.read_csv('dataframeSVD.csv')\n",
    "# ratings = pd.DataFrame(zip(rating.user_id, rating.item_id, rating.sentiment_score), columns = ['user_id', 'item_id', 'sentiment_score'])\n",
    "# ratings.head()"
   ]
  },
  {
   "cell_type": "code",
   "execution_count": 143,
   "metadata": {},
   "outputs": [],
   "source": [
    "# users = ratings['user_id'].unique()\n",
    "# for index, row in ratings.iterrows():\n",
    "#     for i in range(7817):\n",
    "#         if row['user_id'] == users[i]:\n",
    "#             ratings.loc[index, 'user_id'] = i\n",
    "#             break;\n",
    "#     print(index)"
   ]
  },
  {
   "cell_type": "code",
   "execution_count": 144,
   "metadata": {},
   "outputs": [],
   "source": [
    "# items = ratings['item_id'].unique()\n",
    "# for index, row in ratings.iterrows():\n",
    "#     for i in range(2167):\n",
    "#         if row['item_id'] == items[i]:\n",
    "#             ratings.loc[index, 'item_id'] = i\n",
    "#             break;\n",
    "#     print(index)"
   ]
  },
  {
   "cell_type": "code",
   "execution_count": 145,
   "metadata": {},
   "outputs": [],
   "source": [
    "# ratings.to_csv('ratings_clean.csv', index = False)"
   ]
  },
  {
   "cell_type": "code",
   "execution_count": 254,
   "metadata": {},
   "outputs": [],
   "source": [
    "items = ratings['Item ID'].unique()\n",
    "users = ratings['User ID'].unique()"
   ]
  },
  {
   "cell_type": "code",
   "execution_count": 255,
   "metadata": {},
   "outputs": [],
   "source": [
    "ratings = pd.read_csv('dataframeAutoEncoder.csv')"
   ]
  },
  {
   "cell_type": "code",
   "execution_count": 256,
   "metadata": {},
   "outputs": [],
   "source": [
    "num_items = len(ratings['Item ID'].unique())\n",
    "num_users = len(ratings['User ID'].unique())"
   ]
  },
  {
   "cell_type": "code",
   "execution_count": 257,
   "metadata": {},
   "outputs": [],
   "source": [
    "# num_items = len(ratings['item_id'].unique())\n",
    "# num_users = len(ratings['user_id'].unique())"
   ]
  },
  {
   "cell_type": "code",
   "execution_count": 258,
   "metadata": {},
   "outputs": [],
   "source": [
    "train_df, test_df = train_test_split(ratings,\n",
    "                                     test_size=0.1)"
   ]
  },
  {
   "cell_type": "code",
   "execution_count": 259,
   "metadata": {},
   "outputs": [
    {
     "data": {
      "text/html": [
       "<div>\n",
       "<style scoped>\n",
       "    .dataframe tbody tr th:only-of-type {\n",
       "        vertical-align: middle;\n",
       "    }\n",
       "\n",
       "    .dataframe tbody tr th {\n",
       "        vertical-align: top;\n",
       "    }\n",
       "\n",
       "    .dataframe thead th {\n",
       "        text-align: right;\n",
       "    }\n",
       "</style>\n",
       "<table border=\"1\" class=\"dataframe\">\n",
       "  <thead>\n",
       "    <tr style=\"text-align: right;\">\n",
       "      <th></th>\n",
       "      <th>User ID</th>\n",
       "      <th>Item ID</th>\n",
       "      <th>SentimentScore</th>\n",
       "    </tr>\n",
       "  </thead>\n",
       "  <tbody>\n",
       "    <tr>\n",
       "      <td>29671</td>\n",
       "      <td>5150</td>\n",
       "      <td>258</td>\n",
       "      <td>3</td>\n",
       "    </tr>\n",
       "    <tr>\n",
       "      <td>35033</td>\n",
       "      <td>6293</td>\n",
       "      <td>495</td>\n",
       "      <td>3</td>\n",
       "    </tr>\n",
       "    <tr>\n",
       "      <td>10048</td>\n",
       "      <td>8265</td>\n",
       "      <td>10</td>\n",
       "      <td>3</td>\n",
       "    </tr>\n",
       "    <tr>\n",
       "      <td>23420</td>\n",
       "      <td>14555</td>\n",
       "      <td>117</td>\n",
       "      <td>3</td>\n",
       "    </tr>\n",
       "    <tr>\n",
       "      <td>15164</td>\n",
       "      <td>11132</td>\n",
       "      <td>30</td>\n",
       "      <td>3</td>\n",
       "    </tr>\n",
       "  </tbody>\n",
       "</table>\n",
       "</div>"
      ],
      "text/plain": [
       "       User ID  Item ID  SentimentScore\n",
       "29671     5150      258               3\n",
       "35033     6293      495               3\n",
       "10048     8265       10               3\n",
       "23420    14555      117               3\n",
       "15164    11132       30               3"
      ]
     },
     "execution_count": 259,
     "metadata": {},
     "output_type": "execute_result"
    }
   ],
   "source": [
    "train_df.head(5)"
   ]
  },
  {
   "cell_type": "code",
   "execution_count": 260,
   "metadata": {},
   "outputs": [],
   "source": [
    "train_df, validate_df = train_test_split(train_df,\n",
    "                                     test_size=0.1,)"
   ]
  },
  {
   "cell_type": "code",
   "execution_count": 261,
   "metadata": {},
   "outputs": [],
   "source": [
    "def dataPreprocessor(rating_df, num_users, num_items, init_value=0, average=False):\n",
    "    \"\"\"\n",
    "        INPUT: \n",
    "            data: pandas DataFrame. columns=['userID', 'itemID', 'rating' ...]\n",
    "            num_row: int. number of users\n",
    "            num_col: int. number of items\n",
    "            \n",
    "        OUTPUT:\n",
    "            matrix: 2D numpy array. \n",
    "    \"\"\"\n",
    "    if average:\n",
    "      matrix = np.full((num_users, num_items), 0.0)\n",
    "      for (_, userID, itemID, rating) in rating_df.itertuples():\n",
    "        matrix[userID, itemID] = rating\n",
    "      avergae = np.true_divide(matrix.sum(1), np.maximum((matrix!=0).sum(1), 1))\n",
    "      inds = np.where(matrix == 0)\n",
    "      matrix[inds] = np.take(avergae, inds[0])\n",
    "      \n",
    "    else:\n",
    "      matrix = np.full((num_users, num_items), init_value)\n",
    "      for (_, userID, itemID, rating) in rating_df.itertuples():\n",
    "        matrix[userID, itemID] = rating\n",
    "\n",
    "    return matrix"
   ]
  },
  {
   "cell_type": "code",
   "execution_count": 262,
   "metadata": {},
   "outputs": [],
   "source": [
    "# Creating a sparse pivot table with users in rows and items in columns\n",
    "users_items_matrix_train_zero = dataPreprocessor(train_df, num_users, num_items, 0)\n",
    "users_items_matrix_validate = dataPreprocessor(validate_df, num_users, num_items, 0)\n",
    "users_items_matrix_test = dataPreprocessor(test_df, num_users, num_items, 0)"
   ]
  },
  {
   "cell_type": "code",
   "execution_count": 263,
   "metadata": {},
   "outputs": [],
   "source": [
    "users_items_matrix_train_average = dataPreprocessor(train_df, num_users, num_items, average=True)"
   ]
  },
  {
   "cell_type": "code",
   "execution_count": 264,
   "metadata": {},
   "outputs": [],
   "source": [
    "def show_error(history, skip):\n",
    "    loss = history.history['loss']\n",
    "    val_loss = history.history['val_loss']\n",
    "    plt.plot(np.arange(skip, len(loss), 1), loss[skip:])\n",
    "    plt.plot(np.arange(skip, len(loss), 1), val_loss[skip:])\n",
    "    plt.title('model train vs validation loss')\n",
    "    plt.ylabel('loss')\n",
    "    plt.xlabel('epoch')\n",
    "    plt.legend(['train', 'validation'], loc='best')\n",
    "    plt.show()"
   ]
  },
  {
   "cell_type": "code",
   "execution_count": 265,
   "metadata": {},
   "outputs": [],
   "source": [
    "def show_rmse(history, skip):\n",
    "    rmse = history.history['masked_rmse_clip']\n",
    "    val_rmse = history.history['val_masked_rmse_clip']\n",
    "    plt.plot(np.arange(skip, len(rmse), 1), rmse[skip:])\n",
    "    plt.plot(np.arange(skip, len(val_rmse), 1), val_rmse[skip:])\n",
    "    plt.title('model train vs validation masked_rmse')\n",
    "    plt.ylabel('rmse')\n",
    "    plt.xlabel('epoch')\n",
    "    plt.legend(['train', 'validation'], loc='best')\n",
    "    plt.show()"
   ]
  },
  {
   "cell_type": "code",
   "execution_count": 266,
   "metadata": {},
   "outputs": [],
   "source": [
    "def masked_mse(y_true, y_pred):\n",
    "        # masked function\n",
    "        mask_true = K.cast(K.not_equal(y_true, 0), K.floatx())\n",
    "        # masked squared error\n",
    "        masked_squared_error = K.square(mask_true * (y_true - y_pred))\n",
    "        masked_mse = K.sum(masked_squared_error, axis=-1) / K.maximum(K.sum(mask_true, axis=-1), 1)\n",
    "        return masked_mse"
   ]
  },
  {
   "cell_type": "code",
   "execution_count": 267,
   "metadata": {},
   "outputs": [],
   "source": [
    "def masked_rmse(y_true, y_pred):\n",
    "        # masked function\n",
    "        mask_true = K.cast(K.not_equal(y_true, 0), K.floatx())\n",
    "        # masked squared error\n",
    "        masked_squared_error = K.square(mask_true * (y_true - y_pred))\n",
    "        masked_mse = K.sqrt(K.sum(masked_squared_error, axis=-1) / K.maximum(K.sum(mask_true, axis=-1), 1))\n",
    "        return masked_mse"
   ]
  },
  {
   "cell_type": "code",
   "execution_count": 268,
   "metadata": {},
   "outputs": [],
   "source": [
    "\n",
    "def masked_rmse_clip(y_true, y_pred):\n",
    "        # masked function\n",
    "        mask_true = K.cast(K.not_equal(y_true, 0), K.floatx())\n",
    "        y_pred = K.clip(y_pred, 1, 5)\n",
    "        # masked squared error\n",
    "        masked_squared_error = K.square(mask_true * (y_true - y_pred))\n",
    "        masked_mse = K.sqrt(K.sum(masked_squared_error, axis=-1) / K.maximum(K.sum(mask_true, axis=-1), 1))\n",
    "        return masked_mse"
   ]
  },
  {
   "cell_type": "code",
   "execution_count": 269,
   "metadata": {},
   "outputs": [],
   "source": [
    "def Deep_AE_model(X, layers, activation, last_activation, dropout, regularizer_encode, regularizer_decode, side_infor_size=0):\n",
    "    '''\n",
    "    Build Deep AE for CF\n",
    "        INPUT: \n",
    "            X: #_user X #_item matrix\n",
    "            layers: List, each element is the number of neuron for a layer\n",
    "            reg: L2 regularization parameter\n",
    "            activation: activation function for all dense layer except the last\n",
    "            last_activation: activation function for the last dense layer\n",
    "            dropout: dropout rate\n",
    "            regularizer_encode: regularizer for encoder\n",
    "            regularizer_decode: regularizer for decoder\n",
    "            side_infor_size: size of the one hot encoding side information\n",
    "        OUTPUT:\n",
    "            Keras model\n",
    "    '''\n",
    "\n",
    "    # Input\n",
    "    input_layer = x = Input(shape=(X.shape[1],), name='UserRating')\n",
    "    \n",
    "    # Encoder\n",
    "    k = int(len(layers)/2)\n",
    "    i = 0\n",
    "    for l in layers[:k]:\n",
    "      x = Dense(l, activation=activation,\n",
    "                      name='EncLayer{}'.format(i), kernel_regularizer=regularizers.l2(regularizer_encode))(x)\n",
    "      i = i+1\n",
    "      \n",
    "      \n",
    "    # Latent Space\n",
    "    x = Dense(layers[k], activation=activation, \n",
    "                                name='LatentSpace', kernel_regularizer=regularizers.l2(regularizer_encode))(x)\n",
    "    \n",
    "    # Dropout\n",
    "    x = Dropout(rate = dropout)(x)\n",
    "    \n",
    "    # Decoder\n",
    "    for l in layers[k+1:]:\n",
    "      i = i-1\n",
    "      x = Dense(l, activation=activation, \n",
    "                      name='DecLayer{}'.format(i), kernel_regularizer=regularizers.l2(regularizer_decode))(x)\n",
    "      \n",
    "    # Output\n",
    "    output_layer = Dense(X.shape[1]-side_infor_size, activation=last_activation, name='UserScorePred', kernel_regularizer=regularizers.l2(regularizer_decode))(x)\n",
    "\n",
    "    # this model maps an input to its reconstruction\n",
    "    model = Model(input_layer, output_layer)\n",
    "\n",
    "    return model\n"
   ]
  },
  {
   "cell_type": "code",
   "execution_count": 270,
   "metadata": {},
   "outputs": [],
   "source": [
    "layers = [512, 256, 128, 256, 512]\n",
    "dropout = 0.2\n",
    "# activation = 'sigmoid'\n",
    "# last_activation = 'linear'\n",
    "activation = 'selu'\n",
    "last_activation = 'selu'\n",
    "regularizer_encode = 0.001\n",
    "regularizer_decode = 0.001"
   ]
  },
  {
   "cell_type": "code",
   "execution_count": 271,
   "metadata": {},
   "outputs": [],
   "source": [
    "tf.compat.v1.disable_eager_execution()"
   ]
  },
  {
   "cell_type": "code",
   "execution_count": 272,
   "metadata": {},
   "outputs": [
    {
     "name": "stdout",
     "output_type": "stream",
     "text": [
      "Model: \"model_3\"\n",
      "_________________________________________________________________\n",
      "Layer (type)                 Output Shape              Param #   \n",
      "=================================================================\n",
      "UserRating (InputLayer)      [(None, 2789)]            0         \n",
      "_________________________________________________________________\n",
      "EncLayer0 (Dense)            (None, 512)               1428480   \n",
      "_________________________________________________________________\n",
      "EncLayer1 (Dense)            (None, 256)               131328    \n",
      "_________________________________________________________________\n",
      "LatentSpace (Dense)          (None, 128)               32896     \n",
      "_________________________________________________________________\n",
      "dropout_3 (Dropout)          (None, 128)               0         \n",
      "_________________________________________________________________\n",
      "DecLayer1 (Dense)            (None, 256)               33024     \n",
      "_________________________________________________________________\n",
      "DecLayer0 (Dense)            (None, 512)               131584    \n",
      "_________________________________________________________________\n",
      "UserScorePred (Dense)        (None, 2789)              1430757   \n",
      "=================================================================\n",
      "Total params: 3,188,069\n",
      "Trainable params: 3,188,069\n",
      "Non-trainable params: 0\n",
      "_________________________________________________________________\n"
     ]
    }
   ],
   "source": [
    "# Build model\n",
    "Deep_AE = Deep_AE_model(users_items_matrix_train_zero, layers, activation, last_activation, dropout, regularizer_encode, regularizer_decode)\n",
    "Deep_AE.compile(optimizer = Adam(lr=0.0001), loss=masked_mse, metrics=[masked_rmse, masked_rmse_clip]) \n",
    "Deep_AE.summary()"
   ]
  },
  {
   "cell_type": "code",
   "execution_count": 273,
   "metadata": {},
   "outputs": [
    {
     "name": "stdout",
     "output_type": "stream",
     "text": [
      "Train on 19873 samples, validate on 19873 samples\n",
      "Epoch 1/200\n",
      "19873/19873 [==============================] - 13s 639us/sample - loss: 8.2283 - masked_rmse: 2.0544 - masked_rmse_clip: 1.6449 - val_loss: 3.8034 - val_masked_rmse: 0.4684 - val_masked_rmse_clip: 0.3739\n",
      "Epoch 2/200\n",
      "19873/19873 [==============================] - 11s 545us/sample - loss: 4.2065 - masked_rmse: 1.0103 - masked_rmse_clip: 0.9241 - val_loss: 2.8900 - val_masked_rmse: 0.2657 - val_masked_rmse_clip: 0.2516\n",
      "Epoch 3/200\n",
      "19873/19873 [==============================] - 10s 523us/sample - loss: 2.9790 - masked_rmse: 0.5843 - masked_rmse_clip: 0.5660 - val_loss: 2.6621 - val_masked_rmse: 0.2208 - val_masked_rmse_clip: 0.2137\n",
      "Epoch 4/200\n",
      "19873/19873 [==============================] - 13s 657us/sample - loss: 2.6265 - masked_rmse: 0.4644 - masked_rmse_clip: 0.4610 - val_loss: 2.5698 - val_masked_rmse: 0.2148 - val_masked_rmse_clip: 0.2066\n",
      "Epoch 5/200\n",
      "19873/19873 [==============================] - 11s 562us/sample - loss: 2.4500 - masked_rmse: 0.4152 - masked_rmse_clip: 0.4147 - val_loss: 2.5132 - val_masked_rmse: 0.2191 - val_masked_rmse_clip: 0.2091\n",
      "Epoch 6/200\n",
      "19873/19873 [==============================] - 11s 543us/sample - loss: 2.3278 - masked_rmse: 0.3861 - masked_rmse_clip: 0.3860 - val_loss: 2.4814 - val_masked_rmse: 0.2296 - val_masked_rmse_clip: 0.2167\n",
      "Epoch 7/200\n",
      "19873/19873 [==============================] - 13s 672us/sample - loss: 2.2274 - masked_rmse: 0.3665 - masked_rmse_clip: 0.3664 - val_loss: 2.4337 - val_masked_rmse: 0.2357 - val_masked_rmse_clip: 0.2219\n",
      "Epoch 8/200\n",
      "19873/19873 [==============================] - 12s 626us/sample - loss: 2.1411 - masked_rmse: 0.3541 - masked_rmse_clip: 0.3539 - val_loss: 2.4070 - val_masked_rmse: 0.2446 - val_masked_rmse_clip: 0.2272\n",
      "Epoch 9/200\n",
      "19873/19873 [==============================] - 13s 658us/sample - loss: 2.0564 - masked_rmse: 0.3399 - masked_rmse_clip: 0.3397 - val_loss: 2.3949 - val_masked_rmse: 0.2576 - val_masked_rmse_clip: 0.2361\n",
      "Epoch 10/200\n",
      "19873/19873 [==============================] - 11s 562us/sample - loss: 1.9831 - masked_rmse: 0.3325 - masked_rmse_clip: 0.3321 - val_loss: 2.3733 - val_masked_rmse: 0.2670 - val_masked_rmse_clip: 0.2426\n",
      "Epoch 11/200\n",
      "19873/19873 [==============================] - 11s 534us/sample - loss: 1.9102 - masked_rmse: 0.3220 - masked_rmse_clip: 0.3216 - val_loss: 2.3444 - val_masked_rmse: 0.2733 - val_masked_rmse_clip: 0.2463\n",
      "Epoch 12/200\n",
      "19873/19873 [==============================] - 11s 555us/sample - loss: 1.8438 - masked_rmse: 0.3168 - masked_rmse_clip: 0.3161 - val_loss: 2.3274 - val_masked_rmse: 0.2830 - val_masked_rmse_clip: 0.2524\n",
      "Epoch 13/200\n",
      "19873/19873 [==============================] - 11s 576us/sample - loss: 1.7773 - masked_rmse: 0.3075 - masked_rmse_clip: 0.3066 - val_loss: 2.3004 - val_masked_rmse: 0.2880 - val_masked_rmse_clip: 0.2539\n",
      "Epoch 14/200\n",
      "19873/19873 [==============================] - 12s 583us/sample - loss: 1.7178 - masked_rmse: 0.3035 - masked_rmse_clip: 0.3026 - val_loss: 2.2946 - val_masked_rmse: 0.2986 - val_masked_rmse_clip: 0.2589\n",
      "Epoch 15/200\n",
      "19873/19873 [==============================] - 13s 656us/sample - loss: 1.6605 - masked_rmse: 0.2979 - masked_rmse_clip: 0.2969 - val_loss: 2.2420 - val_masked_rmse: 0.2968 - val_masked_rmse_clip: 0.2563\n",
      "Epoch 16/200\n",
      "19873/19873 [==============================] - 12s 619us/sample - loss: 1.6053 - masked_rmse: 0.2924 - masked_rmse_clip: 0.2911 - val_loss: 2.1943 - val_masked_rmse: 0.2962 - val_masked_rmse_clip: 0.2552\n",
      "Epoch 17/200\n",
      "19873/19873 [==============================] - 11s 547us/sample - loss: 1.5553 - masked_rmse: 0.2911 - masked_rmse_clip: 0.2899 - val_loss: 2.1672 - val_masked_rmse: 0.3015 - val_masked_rmse_clip: 0.2584\n",
      "Epoch 18/200\n",
      "19873/19873 [==============================] - 13s 636us/sample - loss: 1.5057 - masked_rmse: 0.2883 - masked_rmse_clip: 0.2870 - val_loss: 2.1293 - val_masked_rmse: 0.3029 - val_masked_rmse_clip: 0.2587\n",
      "Epoch 19/200\n",
      "19873/19873 [==============================] - 13s 656us/sample - loss: 1.4583 - masked_rmse: 0.2863 - masked_rmse_clip: 0.2849 - val_loss: 2.0739 - val_masked_rmse: 0.2986 - val_masked_rmse_clip: 0.2553\n",
      "Epoch 20/200\n",
      "19873/19873 [==============================] - 11s 572us/sample - loss: 1.4121 - masked_rmse: 0.2826 - masked_rmse_clip: 0.2813 - val_loss: 2.0412 - val_masked_rmse: 0.3008 - val_masked_rmse_clip: 0.2564\n",
      "Epoch 21/200\n",
      "19873/19873 [==============================] - 12s 619us/sample - loss: 1.3704 - masked_rmse: 0.2817 - masked_rmse_clip: 0.2802 - val_loss: 1.9896 - val_masked_rmse: 0.2978 - val_masked_rmse_clip: 0.2543\n",
      "Epoch 22/200\n",
      "19873/19873 [==============================] - 11s 565us/sample - loss: 1.3270 - masked_rmse: 0.2782 - masked_rmse_clip: 0.2768 - val_loss: 1.9458 - val_masked_rmse: 0.2961 - val_masked_rmse_clip: 0.2526\n",
      "Epoch 23/200\n",
      "19873/19873 [==============================] - 11s 535us/sample - loss: 1.2885 - masked_rmse: 0.2786 - masked_rmse_clip: 0.2770 - val_loss: 1.8997 - val_masked_rmse: 0.2934 - val_masked_rmse_clip: 0.2507\n",
      "Epoch 24/200\n",
      "19873/19873 [==============================] - 12s 612us/sample - loss: 1.2470 - masked_rmse: 0.2740 - masked_rmse_clip: 0.2725 - val_loss: 1.8739 - val_masked_rmse: 0.2970 - val_masked_rmse_clip: 0.2532\n",
      "Epoch 25/200\n",
      "19873/19873 [==============================] - 11s 561us/sample - loss: 1.2105 - masked_rmse: 0.2732 - masked_rmse_clip: 0.2715 - val_loss: 1.8437 - val_masked_rmse: 0.2983 - val_masked_rmse_clip: 0.2538\n",
      "Epoch 26/200\n",
      "19873/19873 [==============================] - 13s 641us/sample - loss: 1.1756 - masked_rmse: 0.2730 - masked_rmse_clip: 0.2714 - val_loss: 1.7940 - val_masked_rmse: 0.2935 - val_masked_rmse_clip: 0.2497\n",
      "Epoch 27/200\n",
      "19873/19873 [==============================] - 11s 567us/sample - loss: 1.1403 - masked_rmse: 0.2712 - masked_rmse_clip: 0.2695 - val_loss: 1.7548 - val_masked_rmse: 0.2914 - val_masked_rmse_clip: 0.2479\n",
      "Epoch 28/200\n",
      "19873/19873 [==============================] - 12s 621us/sample - loss: 1.1068 - masked_rmse: 0.2704 - masked_rmse_clip: 0.2685 - val_loss: 1.7252 - val_masked_rmse: 0.2927 - val_masked_rmse_clip: 0.2492\n",
      "Epoch 29/200\n",
      "19873/19873 [==============================] - 11s 548us/sample - loss: 1.0743 - masked_rmse: 0.2695 - masked_rmse_clip: 0.2675 - val_loss: 1.7014 - val_masked_rmse: 0.2954 - val_masked_rmse_clip: 0.2514\n",
      "Epoch 30/200\n",
      "19873/19873 [==============================] - 11s 571us/sample - loss: 1.0414 - masked_rmse: 0.2660 - masked_rmse_clip: 0.2642 - val_loss: 1.6510 - val_masked_rmse: 0.2892 - val_masked_rmse_clip: 0.2467\n",
      "Epoch 31/200\n",
      "19873/19873 [==============================] - 11s 549us/sample - loss: 1.0108 - masked_rmse: 0.2643 - masked_rmse_clip: 0.2623 - val_loss: 1.6386 - val_masked_rmse: 0.2926 - val_masked_rmse_clip: 0.2480\n",
      "Epoch 32/200\n",
      "19873/19873 [==============================] - 11s 577us/sample - loss: 0.9823 - masked_rmse: 0.2643 - masked_rmse_clip: 0.2625 - val_loss: 1.5831 - val_masked_rmse: 0.2868 - val_masked_rmse_clip: 0.2450\n",
      "Epoch 33/200\n",
      "19873/19873 [==============================] - 11s 563us/sample - loss: 0.9556 - masked_rmse: 0.2651 - masked_rmse_clip: 0.2631 - val_loss: 1.5497 - val_masked_rmse: 0.2845 - val_masked_rmse_clip: 0.2429\n",
      "Epoch 34/200\n",
      "19873/19873 [==============================] - 12s 613us/sample - loss: 0.9249 - masked_rmse: 0.2606 - masked_rmse_clip: 0.2587 - val_loss: 1.5063 - val_masked_rmse: 0.2799 - val_masked_rmse_clip: 0.2395\n",
      "Epoch 35/200\n",
      "19873/19873 [==============================] - 11s 554us/sample - loss: 0.9018 - masked_rmse: 0.2633 - masked_rmse_clip: 0.2613 - val_loss: 1.5090 - val_masked_rmse: 0.2871 - val_masked_rmse_clip: 0.2442\n",
      "Epoch 36/200\n",
      "19873/19873 [==============================] - 12s 584us/sample - loss: 0.8748 - masked_rmse: 0.2611 - masked_rmse_clip: 0.2591 - val_loss: 1.4959 - val_masked_rmse: 0.2899 - val_masked_rmse_clip: 0.2457\n",
      "Epoch 37/200\n",
      "19873/19873 [==============================] - 13s 635us/sample - loss: 0.8511 - masked_rmse: 0.2601 - masked_rmse_clip: 0.2580 - val_loss: 1.4561 - val_masked_rmse: 0.2858 - val_masked_rmse_clip: 0.2430\n",
      "Epoch 38/200\n"
     ]
    },
    {
     "name": "stdout",
     "output_type": "stream",
     "text": [
      "19873/19873 [==============================] - 12s 609us/sample - loss: 0.8251 - masked_rmse: 0.2581 - masked_rmse_clip: 0.2563 - val_loss: 1.4337 - val_masked_rmse: 0.2854 - val_masked_rmse_clip: 0.2425\n",
      "Epoch 39/200\n",
      "19873/19873 [==============================] - 14s 682us/sample - loss: 0.8040 - masked_rmse: 0.2588 - masked_rmse_clip: 0.2567 - val_loss: 1.3983 - val_masked_rmse: 0.2825 - val_masked_rmse_clip: 0.2410\n",
      "Epoch 40/200\n",
      "19873/19873 [==============================] - 12s 594us/sample - loss: 0.7824 - masked_rmse: 0.2575 - masked_rmse_clip: 0.2554 - val_loss: 1.3677 - val_masked_rmse: 0.2797 - val_masked_rmse_clip: 0.2386\n",
      "Epoch 41/200\n",
      "19873/19873 [==============================] - 14s 681us/sample - loss: 0.7601 - masked_rmse: 0.2558 - masked_rmse_clip: 0.2537 - val_loss: 1.3237 - val_masked_rmse: 0.2738 - val_masked_rmse_clip: 0.2349\n",
      "Epoch 42/200\n",
      "19873/19873 [==============================] - 14s 703us/sample - loss: 0.7427 - masked_rmse: 0.2581 - masked_rmse_clip: 0.2561 - val_loss: 1.3282 - val_masked_rmse: 0.2800 - val_masked_rmse_clip: 0.2390ss: 0.7441 \n",
      "Epoch 43/200\n",
      "19873/19873 [==============================] - 12s 594us/sample - loss: 0.7206 - masked_rmse: 0.2550 - masked_rmse_clip: 0.2530 - val_loss: 1.2936 - val_masked_rmse: 0.2768 - val_masked_rmse_clip: 0.2376\n",
      "Epoch 44/200\n",
      "19873/19873 [==============================] - 11s 568us/sample - loss: 0.7001 - masked_rmse: 0.2525 - masked_rmse_clip: 0.2505 - val_loss: 1.2667 - val_masked_rmse: 0.2737 - val_masked_rmse_clip: 0.2348\n",
      "Epoch 45/200\n",
      "19873/19873 [==============================] - 14s 704us/sample - loss: 0.6818 - masked_rmse: 0.2528 - masked_rmse_clip: 0.2507 - val_loss: 1.2413 - val_masked_rmse: 0.2729 - val_masked_rmse_clip: 0.2353\n",
      "Epoch 46/200\n",
      "19873/19873 [==============================] - 13s 642us/sample - loss: 0.6651 - masked_rmse: 0.2512 - masked_rmse_clip: 0.2492 - val_loss: 1.2234 - val_masked_rmse: 0.2730 - val_masked_rmse_clip: 0.2354\n",
      "Epoch 47/200\n",
      "19873/19873 [==============================] - 12s 608us/sample - loss: 0.6491 - masked_rmse: 0.2519 - masked_rmse_clip: 0.2500 - val_loss: 1.2096 - val_masked_rmse: 0.2720 - val_masked_rmse_clip: 0.2336\n",
      "Epoch 48/200\n",
      "19873/19873 [==============================] - 13s 650us/sample - loss: 0.6327 - masked_rmse: 0.2510 - masked_rmse_clip: 0.2490 - val_loss: 1.1924 - val_masked_rmse: 0.2721 - val_masked_rmse_clip: 0.2342\n",
      "Epoch 49/200\n",
      "19873/19873 [==============================] - 12s 620us/sample - loss: 0.6174 - masked_rmse: 0.2508 - masked_rmse_clip: 0.2486 - val_loss: 1.1628 - val_masked_rmse: 0.2677 - val_masked_rmse_clip: 0.2309\n",
      "Epoch 50/200\n",
      "19873/19873 [==============================] - 12s 619us/sample - loss: 0.6027 - masked_rmse: 0.2506 - masked_rmse_clip: 0.2487 - val_loss: 1.1416 - val_masked_rmse: 0.2677 - val_masked_rmse_clip: 0.2321\n",
      "Epoch 51/200\n",
      "19873/19873 [==============================] - 11s 538us/sample - loss: 0.5897 - masked_rmse: 0.2521 - masked_rmse_clip: 0.2499 - val_loss: 1.1237 - val_masked_rmse: 0.2667 - val_masked_rmse_clip: 0.2317\n",
      "Epoch 52/200\n",
      "19873/19873 [==============================] - 13s 676us/sample - loss: 0.5748 - masked_rmse: 0.2489 - masked_rmse_clip: 0.2470 - val_loss: 1.1114 - val_masked_rmse: 0.2664 - val_masked_rmse_clip: 0.2312\n",
      "Epoch 53/200\n",
      "19873/19873 [==============================] - 13s 649us/sample - loss: 0.5609 - masked_rmse: 0.2477 - masked_rmse_clip: 0.2458 - val_loss: 1.0899 - val_masked_rmse: 0.2640 - val_masked_rmse_clip: 0.2297\n",
      "Epoch 54/200\n",
      "19873/19873 [==============================] - 12s 603us/sample - loss: 0.5487 - masked_rmse: 0.2473 - masked_rmse_clip: 0.2453 - val_loss: 1.0658 - val_masked_rmse: 0.2612 - val_masked_rmse_clip: 0.2282\n",
      "Epoch 55/200\n",
      "19873/19873 [==============================] - 12s 583us/sample - loss: 0.5387 - masked_rmse: 0.2494 - masked_rmse_clip: 0.2475 - val_loss: 1.0477 - val_masked_rmse: 0.2595 - val_masked_rmse_clip: 0.2268\n",
      "Epoch 56/200\n",
      "19873/19873 [==============================] - 12s 609us/sample - loss: 0.5252 - masked_rmse: 0.2455 - masked_rmse_clip: 0.2437 - val_loss: 1.0433 - val_masked_rmse: 0.2604 - val_masked_rmse_clip: 0.2269\n",
      "Epoch 57/200\n",
      "19873/19873 [==============================] - 11s 569us/sample - loss: 0.5139 - masked_rmse: 0.2449 - masked_rmse_clip: 0.2430 - val_loss: 1.0320 - val_masked_rmse: 0.2612 - val_masked_rmse_clip: 0.2281\n",
      "Epoch 58/200\n",
      "19873/19873 [==============================] - 11s 551us/sample - loss: 0.5025 - masked_rmse: 0.2446 - masked_rmse_clip: 0.2428 - val_loss: 1.0159 - val_masked_rmse: 0.2604 - val_masked_rmse_clip: 0.2284\n",
      "Epoch 59/200\n",
      "19873/19873 [==============================] - 11s 570us/sample - loss: 0.4911 - masked_rmse: 0.2425 - masked_rmse_clip: 0.2406 - val_loss: 1.0010 - val_masked_rmse: 0.2584 - val_masked_rmse_clip: 0.2265\n",
      "Epoch 60/200\n",
      "19873/19873 [==============================] - 12s 609us/sample - loss: 0.4838 - masked_rmse: 0.2439 - masked_rmse_clip: 0.2422 - val_loss: 0.9796 - val_masked_rmse: 0.2560 - val_masked_rmse_clip: 0.2255\n",
      "Epoch 61/200\n",
      "19873/19873 [==============================] - 12s 613us/sample - loss: 0.4744 - masked_rmse: 0.2430 - masked_rmse_clip: 0.2412 - val_loss: 0.9856 - val_masked_rmse: 0.2591 - val_masked_rmse_clip: 0.2270\n",
      "Epoch 62/200\n",
      "19873/19873 [==============================] - 14s 695us/sample - loss: 0.4669 - masked_rmse: 0.2448 - masked_rmse_clip: 0.2432 - val_loss: 0.9568 - val_masked_rmse: 0.2552 - val_masked_rmse_clip: 0.2255\n",
      "Epoch 63/200\n",
      "19873/19873 [==============================] - 12s 598us/sample - loss: 0.4565 - masked_rmse: 0.2425 - masked_rmse_clip: 0.2406 - val_loss: 0.9612 - val_masked_rmse: 0.2576 - val_masked_rmse_clip: 0.2266\n",
      "Epoch 64/200\n",
      "19873/19873 [==============================] - 13s 629us/sample - loss: 0.4470 - masked_rmse: 0.2410 - masked_rmse_clip: 0.2392 - val_loss: 0.9509 - val_masked_rmse: 0.2564 - val_masked_rmse_clip: 0.2252\n",
      "Epoch 65/200\n",
      "19873/19873 [==============================] - 12s 598us/sample - loss: 0.4403 - masked_rmse: 0.2414 - masked_rmse_clip: 0.2396 - val_loss: 0.9305 - val_masked_rmse: 0.2530 - val_masked_rmse_clip: 0.2231\n",
      "Epoch 66/200\n",
      "19873/19873 [==============================] - 12s 587us/sample - loss: 0.4323 - masked_rmse: 0.2401 - masked_rmse_clip: 0.2386 - val_loss: 0.9156 - val_masked_rmse: 0.2513 - val_masked_rmse_clip: 0.2224\n",
      "Epoch 67/200\n",
      "19873/19873 [==============================] - 12s 616us/sample - loss: 0.4236 - masked_rmse: 0.2385 - masked_rmse_clip: 0.2368 - val_loss: 0.9383 - val_masked_rmse: 0.2595 - val_masked_rmse_clip: 0.2279\n",
      "Epoch 68/200\n",
      "19873/19873 [==============================] - 12s 608us/sample - loss: 0.4199 - masked_rmse: 0.2413 - masked_rmse_clip: 0.2398 - val_loss: 0.9138 - val_masked_rmse: 0.2533 - val_masked_rmse_clip: 0.2231\n",
      "Epoch 69/200\n",
      "19873/19873 [==============================] - 12s 613us/sample - loss: 0.4127 - masked_rmse: 0.2398 - masked_rmse_clip: 0.2382 - val_loss: 0.8954 - val_masked_rmse: 0.2513 - val_masked_rmse_clip: 0.2228\n",
      "Epoch 70/200\n",
      "19873/19873 [==============================] - 12s 600us/sample - loss: 0.4039 - masked_rmse: 0.2376 - masked_rmse_clip: 0.2360 - val_loss: 0.8965 - val_masked_rmse: 0.2522 - val_masked_rmse_clip: 0.2226\n",
      "Epoch 71/200\n",
      "19873/19873 [==============================] - 11s 574us/sample - loss: 0.3994 - masked_rmse: 0.2378 - masked_rmse_clip: 0.2362 - val_loss: 0.8867 - val_masked_rmse: 0.2527 - val_masked_rmse_clip: 0.2241\n",
      "Epoch 72/200\n",
      "19873/19873 [==============================] - 12s 579us/sample - loss: 0.3925 - masked_rmse: 0.2372 - masked_rmse_clip: 0.2357 - val_loss: 0.8754 - val_masked_rmse: 0.2513 - val_masked_rmse_clip: 0.2234\n",
      "Epoch 73/200\n",
      "19873/19873 [==============================] - 12s 580us/sample - loss: 0.3874 - masked_rmse: 0.2364 - masked_rmse_clip: 0.2349 - val_loss: 0.8623 - val_masked_rmse: 0.2487 - val_masked_rmse_clip: 0.2213\n",
      "Epoch 74/200\n",
      "19873/19873 [==============================] - 12s 597us/sample - loss: 0.3831 - masked_rmse: 0.2378 - masked_rmse_clip: 0.2362 - val_loss: 0.8525 - val_masked_rmse: 0.2473 - val_masked_rmse_clip: 0.2205\n",
      "Epoch 75/200\n",
      "19873/19873 [==============================] - 11s 550us/sample - loss: 0.3769 - masked_rmse: 0.2358 - masked_rmse_clip: 0.2343 - val_loss: 0.8419 - val_masked_rmse: 0.2465 - val_masked_rmse_clip: 0.2206\n"
     ]
    },
    {
     "name": "stdout",
     "output_type": "stream",
     "text": [
      "Epoch 76/200\n",
      "19873/19873 [==============================] - 11s 542us/sample - loss: 0.3727 - masked_rmse: 0.2361 - masked_rmse_clip: 0.2346 - val_loss: 0.8527 - val_masked_rmse: 0.2500 - val_masked_rmse_clip: 0.2222\n",
      "Epoch 77/200\n",
      "19873/19873 [==============================] - 11s 572us/sample - loss: 0.3680 - masked_rmse: 0.2354 - masked_rmse_clip: 0.2338 - val_loss: 0.8415 - val_masked_rmse: 0.2490 - val_masked_rmse_clip: 0.2224\n",
      "Epoch 78/200\n",
      "19873/19873 [==============================] - 11s 572us/sample - loss: 0.3623 - masked_rmse: 0.2344 - masked_rmse_clip: 0.2330 - val_loss: 0.8236 - val_masked_rmse: 0.2445 - val_masked_rmse_clip: 0.2189\n",
      "Epoch 79/200\n",
      "19873/19873 [==============================] - 13s 678us/sample - loss: 0.3570 - masked_rmse: 0.2327 - masked_rmse_clip: 0.2312 - val_loss: 0.8306 - val_masked_rmse: 0.2470 - val_masked_rmse_clip: 0.2203\n",
      "Epoch 80/200\n",
      "19873/19873 [==============================] - 13s 657us/sample - loss: 0.3523 - masked_rmse: 0.2313 - masked_rmse_clip: 0.2297 - val_loss: 0.8246 - val_masked_rmse: 0.2463 - val_masked_rmse_clip: 0.2198\n",
      "Epoch 81/200\n",
      "19873/19873 [==============================] - 11s 577us/sample - loss: 0.3512 - masked_rmse: 0.2359 - masked_rmse_clip: 0.2344 - val_loss: 0.8198 - val_masked_rmse: 0.2466 - val_masked_rmse_clip: 0.2204\n",
      "Epoch 82/200\n",
      "19873/19873 [==============================] - 10s 523us/sample - loss: 0.3476 - masked_rmse: 0.2352 - masked_rmse_clip: 0.2338 - val_loss: 0.8208 - val_masked_rmse: 0.2472 - val_masked_rmse_clip: 0.2204\n",
      "Epoch 83/200\n",
      "19873/19873 [==============================] - 10s 506us/sample - loss: 0.3421 - masked_rmse: 0.2312 - masked_rmse_clip: 0.2297 - val_loss: 0.8055 - val_masked_rmse: 0.2439 - val_masked_rmse_clip: 0.2182\n",
      "Epoch 84/200\n",
      "19873/19873 [==============================] - 11s 566us/sample - loss: 0.3371 - masked_rmse: 0.2299 - masked_rmse_clip: 0.2285 - val_loss: 0.7996 - val_masked_rmse: 0.2445 - val_masked_rmse_clip: 0.2198\n",
      "Epoch 85/200\n",
      "19873/19873 [==============================] - 12s 595us/sample - loss: 0.3342 - masked_rmse: 0.2304 - masked_rmse_clip: 0.2288 - val_loss: 0.8012 - val_masked_rmse: 0.2447 - val_masked_rmse_clip: 0.2189\n",
      "Epoch 86/200\n",
      "19873/19873 [==============================] - 12s 617us/sample - loss: 0.3306 - masked_rmse: 0.2297 - masked_rmse_clip: 0.2284 - val_loss: 0.7949 - val_masked_rmse: 0.2440 - val_masked_rmse_clip: 0.2189\n",
      "Epoch 87/200\n",
      "19873/19873 [==============================] - 12s 603us/sample - loss: 0.3283 - masked_rmse: 0.2298 - masked_rmse_clip: 0.2283 - val_loss: 0.7983 - val_masked_rmse: 0.2461 - val_masked_rmse_clip: 0.2203\n",
      "Epoch 88/200\n",
      "19873/19873 [==============================] - 12s 593us/sample - loss: 0.3255 - masked_rmse: 0.2305 - masked_rmse_clip: 0.2291 - val_loss: 0.7831 - val_masked_rmse: 0.2426 - val_masked_rmse_clip: 0.2184\n",
      "Epoch 89/200\n",
      "19873/19873 [==============================] - 12s 614us/sample - loss: 0.3226 - masked_rmse: 0.2309 - masked_rmse_clip: 0.2294 - val_loss: 0.7826 - val_masked_rmse: 0.2426 - val_masked_rmse_clip: 0.2174\n",
      "Epoch 90/200\n",
      "19873/19873 [==============================] - 13s 646us/sample - loss: 0.3183 - masked_rmse: 0.2277 - masked_rmse_clip: 0.2262 - val_loss: 0.7764 - val_masked_rmse: 0.2423 - val_masked_rmse_clip: 0.2181\n",
      "Epoch 91/200\n",
      "19873/19873 [==============================] - 11s 572us/sample - loss: 0.3162 - masked_rmse: 0.2288 - masked_rmse_clip: 0.2274 - val_loss: 0.7765 - val_masked_rmse: 0.2422 - val_masked_rmse_clip: 0.2170\n",
      "Epoch 92/200\n",
      "19873/19873 [==============================] - 13s 631us/sample - loss: 0.3124 - masked_rmse: 0.2262 - masked_rmse_clip: 0.2245 - val_loss: 0.7723 - val_masked_rmse: 0.2423 - val_masked_rmse_clip: 0.2177\n",
      "Epoch 93/200\n",
      "19873/19873 [==============================] - 12s 617us/sample - loss: 0.3108 - masked_rmse: 0.2274 - masked_rmse_clip: 0.2260 - val_loss: 0.7699 - val_masked_rmse: 0.2425 - val_masked_rmse_clip: 0.2183\n",
      "Epoch 94/200\n",
      "19873/19873 [==============================] - 14s 681us/sample - loss: 0.3086 - masked_rmse: 0.2283 - masked_rmse_clip: 0.2269 - val_loss: 0.7666 - val_masked_rmse: 0.2420 - val_masked_rmse_clip: 0.2175\n",
      "Epoch 95/200\n",
      "19873/19873 [==============================] - 11s 533us/sample - loss: 0.3058 - masked_rmse: 0.2283 - masked_rmse_clip: 0.2268 - val_loss: 0.7610 - val_masked_rmse: 0.2406 - val_masked_rmse_clip: 0.2164\n",
      "Epoch 96/200\n",
      "19873/19873 [==============================] - 10s 496us/sample - loss: 0.3031 - masked_rmse: 0.2269 - masked_rmse_clip: 0.2255 - val_loss: 0.7677 - val_masked_rmse: 0.2440 - val_masked_rmse_clip: 0.2195\n",
      "Epoch 97/200\n",
      "19873/19873 [==============================] - 15s 761us/sample - loss: 0.2993 - masked_rmse: 0.2248 - masked_rmse_clip: 0.2234 - val_loss: 0.7622 - val_masked_rmse: 0.2422 - val_masked_rmse_clip: 0.2177\n",
      "Epoch 98/200\n",
      "19873/19873 [==============================] - 15s 777us/sample - loss: 0.2979 - masked_rmse: 0.2241 - masked_rmse_clip: 0.2226 - val_loss: 0.7616 - val_masked_rmse: 0.2424 - val_masked_rmse_clip: 0.2180\n",
      "Epoch 99/200\n",
      "19873/19873 [==============================] - 15s 775us/sample - loss: 0.2956 - masked_rmse: 0.2239 - masked_rmse_clip: 0.2225 - val_loss: 0.7570 - val_masked_rmse: 0.2426 - val_masked_rmse_clip: 0.2186\n",
      "Epoch 100/200\n",
      "19873/19873 [==============================] - 12s 602us/sample - loss: 0.2947 - masked_rmse: 0.2254 - masked_rmse_clip: 0.2239 - val_loss: 0.7589 - val_masked_rmse: 0.2424 - val_masked_rmse_clip: 0.2174\n",
      "Epoch 101/200\n",
      "19873/19873 [==============================] - 12s 583us/sample - loss: 0.2926 - masked_rmse: 0.2250 - masked_rmse_clip: 0.2236 - val_loss: 0.7559 - val_masked_rmse: 0.2431 - val_masked_rmse_clip: 0.2187\n",
      "Epoch 102/200\n",
      "19873/19873 [==============================] - 12s 600us/sample - loss: 0.2905 - masked_rmse: 0.2253 - masked_rmse_clip: 0.2239 - val_loss: 0.7505 - val_masked_rmse: 0.2418 - val_masked_rmse_clip: 0.2177\n",
      "Epoch 103/200\n",
      "19873/19873 [==============================] - 12s 604us/sample - loss: 0.2885 - masked_rmse: 0.2248 - masked_rmse_clip: 0.2234 - val_loss: 0.7415 - val_masked_rmse: 0.2399 - val_masked_rmse_clip: 0.2168\n",
      "Epoch 104/200\n",
      "19873/19873 [==============================] - 13s 646us/sample - loss: 0.2872 - masked_rmse: 0.2244 - masked_rmse_clip: 0.2232 - val_loss: 0.7474 - val_masked_rmse: 0.2420 - val_masked_rmse_clip: 0.2181\n",
      "Epoch 105/200\n",
      "19873/19873 [==============================] - 12s 591us/sample - loss: 0.2853 - masked_rmse: 0.2241 - masked_rmse_clip: 0.2229 - val_loss: 0.7394 - val_masked_rmse: 0.2406 - val_masked_rmse_clip: 0.2176\n",
      "Epoch 106/200\n",
      "19873/19873 [==============================] - 12s 613us/sample - loss: 0.2832 - masked_rmse: 0.2229 - masked_rmse_clip: 0.2215 - val_loss: 0.7551 - val_masked_rmse: 0.2438 - val_masked_rmse_clip: 0.2182\n",
      "Epoch 107/200\n",
      "19873/19873 [==============================] - 12s 590us/sample - loss: 0.2819 - masked_rmse: 0.2236 - masked_rmse_clip: 0.2221 - val_loss: 0.7472 - val_masked_rmse: 0.2429 - val_masked_rmse_clip: 0.2186\n",
      "Epoch 108/200\n",
      "19873/19873 [==============================] - 13s 634us/sample - loss: 0.2788 - masked_rmse: 0.2205 - masked_rmse_clip: 0.2192 - val_loss: 0.7363 - val_masked_rmse: 0.2400 - val_masked_rmse_clip: 0.2162\n",
      "Epoch 109/200\n",
      "19873/19873 [==============================] - 12s 588us/sample - loss: 0.2784 - masked_rmse: 0.2220 - masked_rmse_clip: 0.2207 - val_loss: 0.7385 - val_masked_rmse: 0.2404 - val_masked_rmse_clip: 0.2162\n",
      "Epoch 110/200\n",
      "19873/19873 [==============================] - 11s 554us/sample - loss: 0.2770 - masked_rmse: 0.2222 - masked_rmse_clip: 0.2208 - val_loss: 0.7283 - val_masked_rmse: 0.2387 - val_masked_rmse_clip: 0.2159\n",
      "Epoch 111/200\n",
      "19873/19873 [==============================] - 11s 569us/sample - loss: 0.2769 - masked_rmse: 0.2234 - masked_rmse_clip: 0.2220 - val_loss: 0.7277 - val_masked_rmse: 0.2386 - val_masked_rmse_clip: 0.2154\n",
      "Epoch 112/200\n",
      "19873/19873 [==============================] - 11s 550us/sample - loss: 0.2741 - masked_rmse: 0.2213 - masked_rmse_clip: 0.2200 - val_loss: 0.7348 - val_masked_rmse: 0.2409 - val_masked_rmse_clip: 0.2169\n",
      "Epoch 113/200\n"
     ]
    },
    {
     "name": "stdout",
     "output_type": "stream",
     "text": [
      "19873/19873 [==============================] - 11s 548us/sample - loss: 0.2728 - masked_rmse: 0.2211 - masked_rmse_clip: 0.2197 - val_loss: 0.7321 - val_masked_rmse: 0.2411 - val_masked_rmse_clip: 0.2175\n",
      "Epoch 114/200\n",
      "19873/19873 [==============================] - 11s 551us/sample - loss: 0.2718 - masked_rmse: 0.2221 - masked_rmse_clip: 0.2209 - val_loss: 0.7330 - val_masked_rmse: 0.2423 - val_masked_rmse_clip: 0.2193\n",
      "Epoch 115/200\n",
      "19873/19873 [==============================] - 12s 622us/sample - loss: 0.2693 - masked_rmse: 0.2203 - masked_rmse_clip: 0.2188 - val_loss: 0.7307 - val_masked_rmse: 0.2406 - val_masked_rmse_clip: 0.2166\n",
      "Epoch 116/200\n",
      "19873/19873 [==============================] - 11s 549us/sample - loss: 0.2668 - masked_rmse: 0.2180 - masked_rmse_clip: 0.2165 - val_loss: 0.7306 - val_masked_rmse: 0.2415 - val_masked_rmse_clip: 0.2176\n",
      "Epoch 117/200\n",
      "19873/19873 [==============================] - 12s 600us/sample - loss: 0.2676 - masked_rmse: 0.2208 - masked_rmse_clip: 0.2195 - val_loss: 0.7245 - val_masked_rmse: 0.2406 - val_masked_rmse_clip: 0.218075  - ETA: 1s - loss: 0.2681 - masked_rmse:\n",
      "Epoch 118/200\n",
      "19873/19873 [==============================] - 11s 570us/sample - loss: 0.2651 - masked_rmse: 0.2173 - masked_rmse_clip: 0.2157 - val_loss: 0.7296 - val_masked_rmse: 0.2413 - val_masked_rmse_clip: 0.2174\n",
      "Epoch 119/200\n",
      "19873/19873 [==============================] - 12s 599us/sample - loss: 0.2643 - masked_rmse: 0.2192 - masked_rmse_clip: 0.2177 - val_loss: 0.7173 - val_masked_rmse: 0.2394 - val_masked_rmse_clip: 0.2172\n",
      "Epoch 120/200\n",
      "19873/19873 [==============================] - 13s 641us/sample - loss: 0.2630 - masked_rmse: 0.2184 - masked_rmse_clip: 0.2169 - val_loss: 0.7279 - val_masked_rmse: 0.2420 - val_masked_rmse_clip: 0.2181\n",
      "Epoch 121/200\n",
      "19873/19873 [==============================] - 12s 605us/sample - loss: 0.2604 - masked_rmse: 0.2158 - masked_rmse_clip: 0.2146 - val_loss: 0.7227 - val_masked_rmse: 0.2409 - val_masked_rmse_clip: 0.2176\n",
      "Epoch 122/200\n",
      "19873/19873 [==============================] - 11s 558us/sample - loss: 0.2624 - masked_rmse: 0.2194 - masked_rmse_clip: 0.2180 - val_loss: 0.7302 - val_masked_rmse: 0.2432 - val_masked_rmse_clip: 0.2192\n",
      "Epoch 123/200\n",
      "19873/19873 [==============================] - 11s 561us/sample - loss: 0.2618 - masked_rmse: 0.2204 - masked_rmse_clip: 0.2190 - val_loss: 0.7181 - val_masked_rmse: 0.2400 - val_masked_rmse_clip: 0.2167\n",
      "Epoch 124/200\n",
      "19873/19873 [==============================] - 14s 690us/sample - loss: 0.2582 - masked_rmse: 0.2168 - masked_rmse_clip: 0.2154 - val_loss: 0.7281 - val_masked_rmse: 0.2427 - val_masked_rmse_clip: 0.2184\n",
      "Epoch 125/200\n",
      "19873/19873 [==============================] - 12s 616us/sample - loss: 0.2571 - masked_rmse: 0.2165 - masked_rmse_clip: 0.2152 - val_loss: 0.7097 - val_masked_rmse: 0.2383 - val_masked_rmse_clip: 0.2161\n",
      "Epoch 126/200\n",
      "19873/19873 [==============================] - 11s 561us/sample - loss: 0.2581 - masked_rmse: 0.2192 - masked_rmse_clip: 0.2177 - val_loss: 0.7221 - val_masked_rmse: 0.2409 - val_masked_rmse_clip: 0.2168\n",
      "Epoch 127/200\n",
      "19873/19873 [==============================] - 13s 650us/sample - loss: 0.2557 - masked_rmse: 0.2164 - masked_rmse_clip: 0.2150 - val_loss: 0.7007 - val_masked_rmse: 0.2360 - val_masked_rmse_clip: 0.2142\n",
      "Epoch 128/200\n",
      "19873/19873 [==============================] - 12s 610us/sample - loss: 0.2550 - masked_rmse: 0.2174 - masked_rmse_clip: 0.2159 - val_loss: 0.7225 - val_masked_rmse: 0.2425 - val_masked_rmse_clip: 0.2188\n",
      "Epoch 129/200\n",
      "19873/19873 [==============================] - 12s 590us/sample - loss: 0.2547 - masked_rmse: 0.2176 - masked_rmse_clip: 0.2163 - val_loss: 0.7185 - val_masked_rmse: 0.2417 - val_masked_rmse_clip: 0.2186\n",
      "Epoch 130/200\n",
      "19873/19873 [==============================] - 11s 576us/sample - loss: 0.2537 - masked_rmse: 0.2177 - masked_rmse_clip: 0.2162 - val_loss: 0.7179 - val_masked_rmse: 0.2407 - val_masked_rmse_clip: 0.2170\n",
      "Epoch 131/200\n",
      "19873/19873 [==============================] - 12s 608us/sample - loss: 0.2514 - masked_rmse: 0.2146 - masked_rmse_clip: 0.2131 - val_loss: 0.7110 - val_masked_rmse: 0.2399 - val_masked_rmse_clip: 0.2169\n",
      "Epoch 132/200\n",
      "19873/19873 [==============================] - 12s 613us/sample - loss: 0.2503 - masked_rmse: 0.2142 - masked_rmse_clip: 0.2128 - val_loss: 0.7111 - val_masked_rmse: 0.2390 - val_masked_rmse_clip: 0.2157\n",
      "Epoch 133/200\n",
      "19873/19873 [==============================] - 12s 586us/sample - loss: 0.2482 - masked_rmse: 0.2125 - masked_rmse_clip: 0.2110 - val_loss: 0.7223 - val_masked_rmse: 0.2435 - val_masked_rmse_clip: 0.2196\n",
      "Epoch 134/200\n",
      "19873/19873 [==============================] - 11s 577us/sample - loss: 0.2498 - masked_rmse: 0.2154 - masked_rmse_clip: 0.2142 - val_loss: 0.7064 - val_masked_rmse: 0.2389 - val_masked_rmse_clip: 0.2164\n",
      "Epoch 135/200\n",
      "19873/19873 [==============================] - 11s 551us/sample - loss: 0.2498 - masked_rmse: 0.2167 - masked_rmse_clip: 0.2152 - val_loss: 0.7114 - val_masked_rmse: 0.2406 - val_masked_rmse_clip: 0.2173\n",
      "Epoch 136/200\n",
      "19873/19873 [==============================] - 12s 581us/sample - loss: 0.2475 - masked_rmse: 0.2132 - masked_rmse_clip: 0.2118 - val_loss: 0.7100 - val_masked_rmse: 0.2404 - val_masked_rmse_clip: 0.2175\n",
      "Epoch 137/200\n",
      "19873/19873 [==============================] - 13s 631us/sample - loss: 0.2458 - masked_rmse: 0.2121 - masked_rmse_clip: 0.2106 - val_loss: 0.7062 - val_masked_rmse: 0.2403 - val_masked_rmse_clip: 0.2177\n",
      "Epoch 138/200\n",
      "19873/19873 [==============================] - 14s 691us/sample - loss: 0.2468 - masked_rmse: 0.2147 - masked_rmse_clip: 0.2132 - val_loss: 0.6986 - val_masked_rmse: 0.2382 - val_masked_rmse_clip: 0.2166\n",
      "Epoch 139/200\n",
      "19873/19873 [==============================] - 12s 580us/sample - loss: 0.2454 - masked_rmse: 0.2138 - masked_rmse_clip: 0.2124 - val_loss: 0.7014 - val_masked_rmse: 0.2389 - val_masked_rmse_clip: 0.2167\n",
      "Epoch 140/200\n",
      "19873/19873 [==============================] - 11s 546us/sample - loss: 0.2449 - masked_rmse: 0.2138 - masked_rmse_clip: 0.2124 - val_loss: 0.7029 - val_masked_rmse: 0.2389 - val_masked_rmse_clip: 0.2162\n",
      "Epoch 141/200\n",
      "19873/19873 [==============================] - 11s 577us/sample - loss: 0.2439 - masked_rmse: 0.2120 - masked_rmse_clip: 0.2104 - val_loss: 0.7070 - val_masked_rmse: 0.2397 - val_masked_rmse_clip: 0.2166\n",
      "Epoch 142/200\n",
      "19873/19873 [==============================] - 12s 627us/sample - loss: 0.2431 - masked_rmse: 0.2126 - masked_rmse_clip: 0.2112 - val_loss: 0.7033 - val_masked_rmse: 0.2400 - val_masked_rmse_clip: 0.2176\n",
      "Epoch 143/200\n",
      "19873/19873 [==============================] - 12s 610us/sample - loss: 0.2424 - masked_rmse: 0.2125 - masked_rmse_clip: 0.2110 - val_loss: 0.7123 - val_masked_rmse: 0.2420 - val_masked_rmse_clip: 0.2183\n",
      "Epoch 144/200\n",
      "19873/19873 [==============================] - 13s 652us/sample - loss: 0.2417 - masked_rmse: 0.2119 - masked_rmse_clip: 0.2105 - val_loss: 0.7049 - val_masked_rmse: 0.2399 - val_masked_rmse_clip: 0.2170\n",
      "Epoch 145/200\n",
      "19873/19873 [==============================] - 11s 543us/sample - loss: 0.2405 - masked_rmse: 0.2111 - masked_rmse_clip: 0.2096 - val_loss: 0.7131 - val_masked_rmse: 0.2421 - val_masked_rmse_clip: 0.2179\n",
      "Epoch 146/200\n",
      "19873/19873 [==============================] - 16s 782us/sample - loss: 0.2390 - masked_rmse: 0.2094 - masked_rmse_clip: 0.2080 - val_loss: 0.7041 - val_masked_rmse: 0.2401 - val_masked_rmse_clip: 0.2171\n",
      "Epoch 147/200\n",
      "19873/19873 [==============================] - 13s 670us/sample - loss: 0.2403 - masked_rmse: 0.2124 - masked_rmse_clip: 0.2110 - val_loss: 0.7057 - val_masked_rmse: 0.2404 - val_masked_rmse_clip: 0.2171\n",
      "Epoch 148/200\n",
      "19873/19873 [==============================] - 13s 635us/sample - loss: 0.2389 - masked_rmse: 0.2116 - masked_rmse_clip: 0.2103 - val_loss: 0.7030 - val_masked_rmse: 0.2400 - val_masked_rmse_clip: 0.2169\n",
      "Epoch 149/200\n",
      "19873/19873 [==============================] - 12s 600us/sample - loss: 0.2376 - masked_rmse: 0.2093 - masked_rmse_clip: 0.2077 - val_loss: 0.7049 - val_masked_rmse: 0.2403 - val_masked_rmse_clip: 0.2171\n",
      "Epoch 150/200\n"
     ]
    },
    {
     "name": "stdout",
     "output_type": "stream",
     "text": [
      "19873/19873 [==============================] - 12s 625us/sample - loss: 0.2377 - masked_rmse: 0.2115 - masked_rmse_clip: 0.2099 - val_loss: 0.7006 - val_masked_rmse: 0.2398 - val_masked_rmse_clip: 0.2171\n",
      "Epoch 151/200\n",
      "19873/19873 [==============================] - 12s 583us/sample - loss: 0.2357 - masked_rmse: 0.2074 - masked_rmse_clip: 0.2060 - val_loss: 0.6858 - val_masked_rmse: 0.2366 - val_masked_rmse_clip: 0.2159\n",
      "Epoch 152/200\n",
      "19873/19873 [==============================] - 11s 549us/sample - loss: 0.2367 - masked_rmse: 0.2110 - masked_rmse_clip: 0.2095 - val_loss: 0.7009 - val_masked_rmse: 0.2398 - val_masked_rmse_clip: 0.2168\n",
      "Epoch 153/200\n",
      "19873/19873 [==============================] - 10s 512us/sample - loss: 0.2367 - masked_rmse: 0.2116 - masked_rmse_clip: 0.2101 - val_loss: 0.7047 - val_masked_rmse: 0.2417 - val_masked_rmse_clip: 0.2187\n",
      "Epoch 154/200\n",
      "19873/19873 [==============================] - 10s 519us/sample - loss: 0.2356 - masked_rmse: 0.2112 - masked_rmse_clip: 0.2098 - val_loss: 0.7044 - val_masked_rmse: 0.2413 - val_masked_rmse_clip: 0.2181\n",
      "Epoch 155/200\n",
      "19873/19873 [==============================] - 11s 572us/sample - loss: 0.2330 - masked_rmse: 0.2070 - masked_rmse_clip: 0.2057 - val_loss: 0.6917 - val_masked_rmse: 0.2380 - val_masked_rmse_clip: 0.2162\n",
      "Epoch 156/200\n",
      "19873/19873 [==============================] - 11s 556us/sample - loss: 0.2330 - masked_rmse: 0.2082 - masked_rmse_clip: 0.2066 - val_loss: 0.6929 - val_masked_rmse: 0.2386 - val_masked_rmse_clip: 0.2166\n",
      "Epoch 157/200\n",
      "19873/19873 [==============================] - 11s 548us/sample - loss: 0.2344 - masked_rmse: 0.2099 - masked_rmse_clip: 0.2085 - val_loss: 0.6964 - val_masked_rmse: 0.2389 - val_masked_rmse_clip: 0.2161\n",
      "Epoch 158/200\n",
      "19873/19873 [==============================] - 12s 591us/sample - loss: 0.2331 - masked_rmse: 0.2086 - masked_rmse_clip: 0.2072 - val_loss: 0.6898 - val_masked_rmse: 0.2386 - val_masked_rmse_clip: 0.2173\n",
      "Epoch 159/200\n",
      "19873/19873 [==============================] - 12s 581us/sample - loss: 0.2333 - masked_rmse: 0.2108 - masked_rmse_clip: 0.2094 - val_loss: 0.6910 - val_masked_rmse: 0.2384 - val_masked_rmse_clip: 0.2166\n",
      "Epoch 160/200\n",
      "19873/19873 [==============================] - 11s 531us/sample - loss: 0.2325 - masked_rmse: 0.2088 - masked_rmse_clip: 0.2074 - val_loss: 0.7119 - val_masked_rmse: 0.2437 - val_masked_rmse_clip: 0.2193\n",
      "Epoch 161/200\n",
      "19873/19873 [==============================] - 10s 517us/sample - loss: 0.2308 - masked_rmse: 0.2061 - masked_rmse_clip: 0.2045 - val_loss: 0.6805 - val_masked_rmse: 0.2359 - val_masked_rmse_clip: 0.2150\n",
      "Epoch 162/200\n",
      "19873/19873 [==============================] - 11s 528us/sample - loss: 0.2300 - masked_rmse: 0.2060 - masked_rmse_clip: 0.2048 - val_loss: 0.7032 - val_masked_rmse: 0.2417 - val_masked_rmse_clip: 0.2182\n",
      "Epoch 163/200\n",
      "19873/19873 [==============================] - 10s 527us/sample - loss: 0.2301 - masked_rmse: 0.2067 - masked_rmse_clip: 0.2052 - val_loss: 0.6886 - val_masked_rmse: 0.2387 - val_masked_rmse_clip: 0.2168k\n",
      "Epoch 164/200\n",
      "19873/19873 [==============================] - 10s 479us/sample - loss: 0.2313 - masked_rmse: 0.2084 - masked_rmse_clip: 0.2070 - val_loss: 0.6870 - val_masked_rmse: 0.2376 - val_masked_rmse_clip: 0.2156\n",
      "Epoch 165/200\n",
      "19873/19873 [==============================] - 5s 257us/sample - loss: 0.2290 - masked_rmse: 0.2066 - masked_rmse_clip: 0.2052 - val_loss: 0.6966 - val_masked_rmse: 0.2389 - val_masked_rmse_clip: 0.2154\n",
      "Epoch 166/200\n",
      "19873/19873 [==============================] - 5s 231us/sample - loss: 0.2296 - masked_rmse: 0.2086 - masked_rmse_clip: 0.2072 - val_loss: 0.6787 - val_masked_rmse: 0.2350 - val_masked_rmse_clip: 0.2137\n",
      "Epoch 167/200\n",
      "19873/19873 [==============================] - 5s 248us/sample - loss: 0.2280 - masked_rmse: 0.2058 - masked_rmse_clip: 0.2043 - val_loss: 0.6945 - val_masked_rmse: 0.2398 - val_masked_rmse_clip: 0.2170\n",
      "Epoch 168/200\n",
      "19873/19873 [==============================] - 5s 247us/sample - loss: 0.2287 - masked_rmse: 0.2086 - masked_rmse_clip: 0.2071 - val_loss: 0.6865 - val_masked_rmse: 0.2374 - val_masked_rmse_clip: 0.2152\n",
      "Epoch 169/200\n",
      "19873/19873 [==============================] - 4s 223us/sample - loss: 0.2271 - masked_rmse: 0.2062 - masked_rmse_clip: 0.2048 - val_loss: 0.6909 - val_masked_rmse: 0.2388 - val_masked_rmse_clip: 0.2163\n",
      "Epoch 170/200\n",
      "19873/19873 [==============================] - 5s 236us/sample - loss: 0.2261 - masked_rmse: 0.2054 - masked_rmse_clip: 0.2039 - val_loss: 0.6796 - val_masked_rmse: 0.2357 - val_masked_rmse_clip: 0.2144\n",
      "Epoch 171/200\n",
      "19873/19873 [==============================] - 5s 241us/sample - loss: 0.2248 - masked_rmse: 0.2025 - masked_rmse_clip: 0.2011 - val_loss: 0.6937 - val_masked_rmse: 0.2396 - val_masked_rmse_clip: 0.2166\n",
      "Epoch 172/200\n",
      "19873/19873 [==============================] - 5s 242us/sample - loss: 0.2263 - masked_rmse: 0.2062 - masked_rmse_clip: 0.2047 - val_loss: 0.6917 - val_masked_rmse: 0.2398 - val_masked_rmse_clip: 0.2171\n",
      "Epoch 173/200\n",
      "19873/19873 [==============================] - 5s 241us/sample - loss: 0.2265 - masked_rmse: 0.2071 - masked_rmse_clip: 0.2054 - val_loss: 0.6778 - val_masked_rmse: 0.2361 - val_masked_rmse_clip: 0.2153\n",
      "Epoch 174/200\n",
      "19873/19873 [==============================] - 4s 225us/sample - loss: 0.2256 - masked_rmse: 0.2066 - masked_rmse_clip: 0.2053 - val_loss: 0.6948 - val_masked_rmse: 0.2409 - val_masked_rmse_clip: 0.2182\n",
      "Epoch 175/200\n",
      "19873/19873 [==============================] - 5s 245us/sample - loss: 0.2245 - masked_rmse: 0.2054 - masked_rmse_clip: 0.2039 - val_loss: 0.6857 - val_masked_rmse: 0.2378 - val_masked_rmse_clip: 0.2155\n",
      "Epoch 176/200\n",
      "19873/19873 [==============================] - 5s 251us/sample - loss: 0.2248 - masked_rmse: 0.2060 - masked_rmse_clip: 0.2045 - val_loss: 0.6912 - val_masked_rmse: 0.2400 - val_masked_rmse_clip: 0.2174\n",
      "Epoch 177/200\n",
      "19873/19873 [==============================] - 5s 242us/sample - loss: 0.2237 - masked_rmse: 0.2050 - masked_rmse_clip: 0.2036 - val_loss: 0.6924 - val_masked_rmse: 0.2386 - val_masked_rmse_clip: 0.2150\n",
      "Epoch 178/200\n",
      "19873/19873 [==============================] - 4s 217us/sample - loss: 0.2231 - masked_rmse: 0.2044 - masked_rmse_clip: 0.2030 - val_loss: 0.6826 - val_masked_rmse: 0.2375 - val_masked_rmse_clip: 0.2155\n",
      "Epoch 179/200\n",
      "19873/19873 [==============================] - 4s 210us/sample - loss: 0.2238 - masked_rmse: 0.2051 - masked_rmse_clip: 0.2036 - val_loss: 0.6842 - val_masked_rmse: 0.2379 - val_masked_rmse_clip: 0.2160\n",
      "Epoch 180/200\n",
      "19873/19873 [==============================] - 4s 220us/sample - loss: 0.2230 - masked_rmse: 0.2039 - masked_rmse_clip: 0.2022 - val_loss: 0.6901 - val_masked_rmse: 0.2393 - val_masked_rmse_clip: 0.2163\n",
      "Epoch 181/200\n",
      "19873/19873 [==============================] - 5s 232us/sample - loss: 0.2227 - masked_rmse: 0.2050 - masked_rmse_clip: 0.2033 - val_loss: 0.6789 - val_masked_rmse: 0.2361 - val_masked_rmse_clip: 0.2144\n",
      "Epoch 182/200\n",
      "19873/19873 [==============================] - 5s 245us/sample - loss: 0.2226 - masked_rmse: 0.2051 - masked_rmse_clip: 0.2037 - val_loss: 0.6790 - val_masked_rmse: 0.2360 - val_masked_rmse_clip: 0.2137\n",
      "Epoch 183/200\n",
      "19873/19873 [==============================] - 4s 215us/sample - loss: 0.2203 - masked_rmse: 0.2032 - masked_rmse_clip: 0.2016 - val_loss: 0.6776 - val_masked_rmse: 0.2361 - val_masked_rmse_clip: 0.2139\n",
      "Epoch 184/200\n",
      "19873/19873 [==============================] - 4s 223us/sample - loss: 0.2201 - masked_rmse: 0.2021 - masked_rmse_clip: 0.2006 - val_loss: 0.6803 - val_masked_rmse: 0.2377 - val_masked_rmse_clip: 0.2160\n",
      "Epoch 185/200\n",
      "19873/19873 [==============================] - 4s 216us/sample - loss: 0.2205 - masked_rmse: 0.2035 - masked_rmse_clip: 0.2019 - val_loss: 0.6850 - val_masked_rmse: 0.2388 - val_masked_rmse_clip: 0.2161\n",
      "Epoch 186/200\n",
      "19873/19873 [==============================] - 4s 223us/sample - loss: 0.2203 - masked_rmse: 0.2030 - masked_rmse_clip: 0.2016 - val_loss: 0.6789 - val_masked_rmse: 0.2371 - val_masked_rmse_clip: 0.2152\n",
      "Epoch 187/200\n",
      "19873/19873 [==============================] - 5s 230us/sample - loss: 0.2196 - masked_rmse: 0.2024 - masked_rmse_clip: 0.2010 - val_loss: 0.6792 - val_masked_rmse: 0.2381 - val_masked_rmse_clip: 0.2168\n"
     ]
    },
    {
     "name": "stdout",
     "output_type": "stream",
     "text": [
      "Epoch 188/200\n",
      "19873/19873 [==============================] - 5s 232us/sample - loss: 0.2207 - masked_rmse: 0.2046 - masked_rmse_clip: 0.2032 - val_loss: 0.6865 - val_masked_rmse: 0.2395 - val_masked_rmse_clip: 0.2170\n",
      "Epoch 189/200\n",
      "19873/19873 [==============================] - 5s 237us/sample - loss: 0.2188 - masked_rmse: 0.2019 - masked_rmse_clip: 0.2005 - val_loss: 0.6884 - val_masked_rmse: 0.2389 - val_masked_rmse_clip: 0.2155\n",
      "Epoch 190/200\n",
      "19873/19873 [==============================] - 4s 210us/sample - loss: 0.2161 - masked_rmse: 0.1986 - masked_rmse_clip: 0.1969 - val_loss: 0.6786 - val_masked_rmse: 0.2375 - val_masked_rmse_clip: 0.2157\n",
      "Epoch 191/200\n",
      "19873/19873 [==============================] - 5s 252us/sample - loss: 0.2166 - masked_rmse: 0.1991 - masked_rmse_clip: 0.1978 - val_loss: 0.6771 - val_masked_rmse: 0.2373 - val_masked_rmse_clip: 0.2159\n",
      "Epoch 192/200\n",
      "19873/19873 [==============================] - 5s 241us/sample - loss: 0.2183 - masked_rmse: 0.2024 - masked_rmse_clip: 0.2008 - val_loss: 0.6774 - val_masked_rmse: 0.2363 - val_masked_rmse_clip: 0.2143\n",
      "Epoch 193/200\n",
      "19873/19873 [==============================] - 5s 236us/sample - loss: 0.2175 - masked_rmse: 0.2019 - masked_rmse_clip: 0.2004 - val_loss: 0.6896 - val_masked_rmse: 0.2403 - val_masked_rmse_clip: 0.2173\n",
      "Epoch 194/200\n",
      "19873/19873 [==============================] - 5s 236us/sample - loss: 0.2170 - masked_rmse: 0.2017 - masked_rmse_clip: 0.2002 - val_loss: 0.6840 - val_masked_rmse: 0.2385 - val_masked_rmse_clip: 0.2154\n",
      "Epoch 195/200\n",
      "19873/19873 [==============================] - 5s 227us/sample - loss: 0.2150 - masked_rmse: 0.1992 - masked_rmse_clip: 0.1978 - val_loss: 0.6838 - val_masked_rmse: 0.2385 - val_masked_rmse_clip: 0.2159\n",
      "Epoch 196/200\n",
      "19873/19873 [==============================] - 5s 238us/sample - loss: 0.2156 - masked_rmse: 0.2005 - masked_rmse_clip: 0.1990 - val_loss: 0.6809 - val_masked_rmse: 0.2381 - val_masked_rmse_clip: 0.2158\n",
      "Epoch 197/200\n",
      "19873/19873 [==============================] - 4s 206us/sample - loss: 0.2156 - masked_rmse: 0.2005 - masked_rmse_clip: 0.1991 - val_loss: 0.6837 - val_masked_rmse: 0.2396 - val_masked_rmse_clip: 0.2172\n",
      "Epoch 198/200\n",
      "19873/19873 [==============================] - 5s 230us/sample - loss: 0.2157 - masked_rmse: 0.2011 - masked_rmse_clip: 0.1995 - val_loss: 0.6690 - val_masked_rmse: 0.2348 - val_masked_rmse_clip: 0.2134\n",
      "Epoch 199/200\n",
      "19873/19873 [==============================] - 4s 224us/sample - loss: 0.2157 - masked_rmse: 0.2025 - masked_rmse_clip: 0.2011 - val_loss: 0.6735 - val_masked_rmse: 0.2364 - val_masked_rmse_clip: 0.2146\n",
      "Epoch 200/200\n",
      "19873/19873 [==============================] - 5s 239us/sample - loss: 0.2141 - masked_rmse: 0.1997 - masked_rmse_clip: 0.1982 - val_loss: 0.6847 - val_masked_rmse: 0.2384 - val_masked_rmse_clip: 0.2150\n"
     ]
    }
   ],
   "source": [
    "hist_Deep_AE = Deep_AE.fit(x=users_items_matrix_train_zero, y=users_items_matrix_train_zero,\n",
    "                  epochs=200,\n",
    "                  batch_size=256,\n",
    "                  validation_data=[users_items_matrix_train_zero, users_items_matrix_validate], verbose=1)"
   ]
  },
  {
   "cell_type": "code",
   "execution_count": 285,
   "metadata": {},
   "outputs": [
    {
     "data": {
      "image/png": "[encoded data removed]",
      "text/plain": [
       "<Figure size 432x288 with 1 Axes>"
      ]
     },
     "metadata": {
      "needs_background": "light"
     },
     "output_type": "display_data"
    }
   ],
   "source": [
    "show_error(hist_Deep_AE, 20)"
   ]
  },
  {
   "cell_type": "code",
   "execution_count": 286,
   "metadata": {},
   "outputs": [
    {
     "data": {
      "image/png": "[encoded data removed]",
      "text/plain": [
       "<Figure size 432x288 with 1 Axes>"
      ]
     },
     "metadata": {
      "needs_background": "light"
     },
     "output_type": "display_data"
    }
   ],
   "source": [
    "show_rmse(hist_Deep_AE, 20)"
   ]
  },
  {
   "cell_type": "code",
   "execution_count": 276,
   "metadata": {},
   "outputs": [],
   "source": [
    "predict_deep = Deep_AE.predict(users_items_matrix_train_zero)"
   ]
  },
  {
   "cell_type": "code",
   "execution_count": 277,
   "metadata": {},
   "outputs": [
    {
     "name": "stdout",
     "output_type": "stream",
     "text": [
      "19873/19873 [==============================] - 3s 137us/sample - loss: 0.7627 - masked_rmse: 0.2727 - masked_rmse_clip: 0.2455\n"
     ]
    }
   ],
   "source": [
    "test_result_deep = Deep_AE.evaluate(users_items_matrix_train_zero, users_items_matrix_test)"
   ]
  },
  {
   "cell_type": "code",
   "execution_count": 278,
   "metadata": {},
   "outputs": [],
   "source": [
    "def save_model(name, model):\n",
    "  # # serialize model to JSON\n",
    "  model_json = model.to_json()\n",
    "  with open(\"{}.json\".format(name), \"w\") as json_file:\n",
    "      json_file.write(model_json)\n",
    "  # serialize weights to HDF5\n",
    "  model.save_weights(\"{}.h5\".format(name))\n",
    "  print(\"Saved model to disk\")"
   ]
  },
  {
   "cell_type": "code",
   "execution_count": 279,
   "metadata": {},
   "outputs": [],
   "source": [
    "def load_model(name):\n",
    "  # load json and create model\n",
    "  model_file = open('{}.json'.format(name), 'r')\n",
    "  loaded_model_json = model_file.read()\n",
    "  model_file.close()\n",
    "  loaded_model = model_from_json(loaded_model_json)\n",
    "  # load weights into new model\n",
    "  loaded_model.load_weights(\"{}.h5\".format(name))\n",
    "  print(\"Loaded model from disk\")\n",
    "  return loaded_model"
   ]
  },
  {
   "cell_type": "code",
   "execution_count": 280,
   "metadata": {},
   "outputs": [
    {
     "name": "stdout",
     "output_type": "stream",
     "text": [
      "Saved model to disk\n"
     ]
    }
   ],
   "source": [
    "save_model('autoencoder',Deep_AE)"
   ]
  },
  {
   "cell_type": "code",
   "execution_count": 281,
   "metadata": {},
   "outputs": [],
   "source": [
    "# model = load_model('autoencoder')"
   ]
  },
  {
   "cell_type": "code",
   "execution_count": 287,
   "metadata": {},
   "outputs": [],
   "source": [
    "predictions = predict_deep"
   ]
  },
  {
   "cell_type": "code",
   "execution_count": 288,
   "metadata": {},
   "outputs": [
    {
     "data": {
      "text/plain": [
       "(19873, 2789)"
      ]
     },
     "execution_count": 288,
     "metadata": {},
     "output_type": "execute_result"
    }
   ],
   "source": [
    "predictions.shape"
   ]
  },
  {
   "cell_type": "code",
   "execution_count": 289,
   "metadata": {},
   "outputs": [
    {
     "data": {
      "text/plain": [
       "(2167, 1)"
      ]
     },
     "execution_count": 289,
     "metadata": {},
     "output_type": "execute_result"
    }
   ],
   "source": [
    "item.shape"
   ]
  },
  {
   "cell_type": "code",
   "execution_count": 290,
   "metadata": {},
   "outputs": [],
   "source": [
    "item = items.reshape(-1,1)\n",
    "\n",
    "def getGameRecommendation(user, topN):\n",
    "    index = 0\n",
    "    rec= []\n",
    "    for i in range(7817):\n",
    "        if user == users[i]:\n",
    "            index = i\n",
    "            break;\n",
    "    pred = predictions[index]\n",
    "    pred = np.clip(pred, 1 , 5)    \n",
    "    pred = pred.reshape(-1,1)\n",
    "    rec = np.concatenate((item,pred),axis = 1)\n",
    "    rec_df = pd.DataFrame(data=rec, columns=[\"game\", \"rating\"])\n",
    "    rec_df = rec_df.sort_values([\"rating\"], ascending = False)\n",
    "    rec_df['game'] = rec_df['game'].astype(int)\n",
    "    return rec_df.head(topN)"
   ]
  },
  {
   "cell_type": "code",
   "execution_count": 291,
   "metadata": {},
   "outputs": [
    {
     "data": {
      "text/html": [
       "<div>\n",
       "<style scoped>\n",
       "    .dataframe tbody tr th:only-of-type {\n",
       "        vertical-align: middle;\n",
       "    }\n",
       "\n",
       "    .dataframe tbody tr th {\n",
       "        vertical-align: top;\n",
       "    }\n",
       "\n",
       "    .dataframe thead th {\n",
       "        text-align: right;\n",
       "    }\n",
       "</style>\n",
       "<table border=\"1\" class=\"dataframe\">\n",
       "  <thead>\n",
       "    <tr style=\"text-align: right;\">\n",
       "      <th></th>\n",
       "      <th>game</th>\n",
       "      <th>rating</th>\n",
       "    </tr>\n",
       "  </thead>\n",
       "  <tbody>\n",
       "    <tr>\n",
       "      <td>2127</td>\n",
       "      <td>2127</td>\n",
       "      <td>4.609084</td>\n",
       "    </tr>\n",
       "    <tr>\n",
       "      <td>2145</td>\n",
       "      <td>2145</td>\n",
       "      <td>4.303085</td>\n",
       "    </tr>\n",
       "    <tr>\n",
       "      <td>1704</td>\n",
       "      <td>1704</td>\n",
       "      <td>4.278309</td>\n",
       "    </tr>\n",
       "    <tr>\n",
       "      <td>1036</td>\n",
       "      <td>1036</td>\n",
       "      <td>4.269770</td>\n",
       "    </tr>\n",
       "    <tr>\n",
       "      <td>2149</td>\n",
       "      <td>2149</td>\n",
       "      <td>4.262879</td>\n",
       "    </tr>\n",
       "    <tr>\n",
       "      <td>1216</td>\n",
       "      <td>1216</td>\n",
       "      <td>4.154728</td>\n",
       "    </tr>\n",
       "    <tr>\n",
       "      <td>2234</td>\n",
       "      <td>2234</td>\n",
       "      <td>4.139701</td>\n",
       "    </tr>\n",
       "    <tr>\n",
       "      <td>577</td>\n",
       "      <td>577</td>\n",
       "      <td>4.105348</td>\n",
       "    </tr>\n",
       "    <tr>\n",
       "      <td>1148</td>\n",
       "      <td>1148</td>\n",
       "      <td>4.043070</td>\n",
       "    </tr>\n",
       "    <tr>\n",
       "      <td>456</td>\n",
       "      <td>456</td>\n",
       "      <td>4.011204</td>\n",
       "    </tr>\n",
       "  </tbody>\n",
       "</table>\n",
       "</div>"
      ],
      "text/plain": [
       "      game    rating\n",
       "2127  2127  4.609084\n",
       "2145  2145  4.303085\n",
       "1704  1704  4.278309\n",
       "1036  1036  4.269770\n",
       "2149  2149  4.262879\n",
       "1216  1216  4.154728\n",
       "2234  2234  4.139701\n",
       "577    577  4.105348\n",
       "1148  1148  4.043070\n",
       "456    456  4.011204"
      ]
     },
     "execution_count": 291,
     "metadata": {},
     "output_type": "execute_result"
    }
   ],
   "source": [
    "getGameRecommendation('maplemage', 10)"
   ]
  },
  {
   "cell_type": "code",
   "execution_count": 292,
   "metadata": {},
   "outputs": [
    {
     "data": {
      "text/html": [
       "<div>\n",
       "<style scoped>\n",
       "    .dataframe tbody tr th:only-of-type {\n",
       "        vertical-align: middle;\n",
       "    }\n",
       "\n",
       "    .dataframe tbody tr th {\n",
       "        vertical-align: top;\n",
       "    }\n",
       "\n",
       "    .dataframe thead th {\n",
       "        text-align: right;\n",
       "    }\n",
       "</style>\n",
       "<table border=\"1\" class=\"dataframe\">\n",
       "  <thead>\n",
       "    <tr style=\"text-align: right;\">\n",
       "      <th></th>\n",
       "      <th>game</th>\n",
       "      <th>rating</th>\n",
       "    </tr>\n",
       "  </thead>\n",
       "  <tbody>\n",
       "    <tr>\n",
       "      <td>2127</td>\n",
       "      <td>2127</td>\n",
       "      <td>4.609084</td>\n",
       "    </tr>\n",
       "    <tr>\n",
       "      <td>2145</td>\n",
       "      <td>2145</td>\n",
       "      <td>4.303085</td>\n",
       "    </tr>\n",
       "    <tr>\n",
       "      <td>1704</td>\n",
       "      <td>1704</td>\n",
       "      <td>4.278309</td>\n",
       "    </tr>\n",
       "    <tr>\n",
       "      <td>1036</td>\n",
       "      <td>1036</td>\n",
       "      <td>4.269770</td>\n",
       "    </tr>\n",
       "    <tr>\n",
       "      <td>2149</td>\n",
       "      <td>2149</td>\n",
       "      <td>4.262879</td>\n",
       "    </tr>\n",
       "    <tr>\n",
       "      <td>1216</td>\n",
       "      <td>1216</td>\n",
       "      <td>4.154728</td>\n",
       "    </tr>\n",
       "    <tr>\n",
       "      <td>2234</td>\n",
       "      <td>2234</td>\n",
       "      <td>4.139701</td>\n",
       "    </tr>\n",
       "    <tr>\n",
       "      <td>577</td>\n",
       "      <td>577</td>\n",
       "      <td>4.105348</td>\n",
       "    </tr>\n",
       "    <tr>\n",
       "      <td>1148</td>\n",
       "      <td>1148</td>\n",
       "      <td>4.043070</td>\n",
       "    </tr>\n",
       "    <tr>\n",
       "      <td>456</td>\n",
       "      <td>456</td>\n",
       "      <td>4.011204</td>\n",
       "    </tr>\n",
       "  </tbody>\n",
       "</table>\n",
       "</div>"
      ],
      "text/plain": [
       "      game    rating\n",
       "2127  2127  4.609084\n",
       "2145  2145  4.303085\n",
       "1704  1704  4.278309\n",
       "1036  1036  4.269770\n",
       "2149  2149  4.262879\n",
       "1216  1216  4.154728\n",
       "2234  2234  4.139701\n",
       "577    577  4.105348\n",
       "1148  1148  4.043070\n",
       "456    456  4.011204"
      ]
     },
     "execution_count": 292,
     "metadata": {},
     "output_type": "execute_result"
    }
   ],
   "source": [
    "getGameRecommendation('76561197970982479', 10)"
   ]
  },
  {
   "cell_type": "code",
   "execution_count": 293,
   "metadata": {},
   "outputs": [],
   "source": [
    "item = items.reshape(-1,1)\n",
    "\n",
    "def getGameRating(user, game):\n",
    "    index = 0\n",
    "    rec= []\n",
    "    for i in range(7817):\n",
    "        if user == users[i]:\n",
    "            index = i\n",
    "            break;\n",
    "    pred = predictions[index]\n",
    "    pred = np.clip(pred, 1 , 5)    \n",
    "    pred = pred.reshape(-1,1)\n",
    "    rec = np.concatenate((item,pred),axis = 1)\n",
    "    rec_df = pd.DataFrame(data=rec, columns=[\"game\", \"rating\"])\n",
    "    rec_df = rec_df.sort_values([\"rating\"], ascending = False)\n",
    "    rec_df['game'] = rec_df['game'].astype(int)\n",
    "    rating = rec_df[rec_df['game'] == game]['rating'].values\n",
    "    return rating[0]"
   ]
  },
  {
   "cell_type": "code",
   "execution_count": 295,
   "metadata": {},
   "outputs": [
    {
     "data": {
      "text/plain": [
       "4.609083652496338"
      ]
     },
     "execution_count": 295,
     "metadata": {},
     "output_type": "execute_result"
    }
   ],
   "source": [
    "getGameRating('maplemage',2127)"
   ]
  },
  {
   "cell_type": "code",
   "execution_count": null,
   "metadata": {},
   "outputs": [],
   "source": []
  }
 ],
 "metadata": {
  "kernelspec": {
   "display_name": "Python 3",
   "language": "python",
   "name": "python3"
  },
  "language_info": {
   "codemirror_mode": {
    "name": "ipython",
    "version": 3
   },
   "file_extension": ".py",
   "mimetype": "text/x-python",
   "name": "python",
   "nbconvert_exporter": "python",
   "pygments_lexer": "ipython3",
   "version": "3.7.6"
  }
 },
 "nbformat": 4,
 "nbformat_minor": 4
}
